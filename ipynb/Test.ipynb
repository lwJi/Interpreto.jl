{
 "cells": [
  {
   "cell_type": "code",
   "execution_count": 1,
   "id": "f91105c0-179d-4a5b-be57-d8dbe748c413",
   "metadata": {},
   "outputs": [],
   "source": [
    "using Symbolics"
   ]
  },
  {
   "cell_type": "code",
   "execution_count": 2,
   "id": "6c27ffe1-d417-4fff-b5fc-5aab0db52805",
   "metadata": {},
   "outputs": [
    {
     "data": {
      "text/plain": [
       "1:3"
      ]
     },
     "execution_count": 2,
     "metadata": {},
     "output_type": "execute_result"
    }
   ],
   "source": [
    "drange = 1:3"
   ]
  },
  {
   "cell_type": "code",
   "execution_count": 3,
   "id": "e8195fe9-a963-46fe-ba9a-f409e9c41f50",
   "metadata": {},
   "outputs": [
    {
     "data": {
      "text/plain": [
       "2-element Vector{Symbolics.Arr{Num}}:\n",
       " M[1:3,1:3]\n",
       " u[1:3]"
      ]
     },
     "execution_count": 3,
     "metadata": {},
     "output_type": "execute_result"
    }
   ],
   "source": [
    "@variables M[drange, drange] u[drange]"
   ]
  },
  {
   "cell_type": "code",
   "execution_count": 5,
   "id": "998b647e-e4aa-4518-8e02-ec54c0d65053",
   "metadata": {},
   "outputs": [
    {
     "data": {
      "text/latex": [
       "$$ \\begin{equation}\n",
       "\\left[\n",
       "\\begin{array}{c}\n",
       "M_{1}ˏ_1 u_1 + M_{1}ˏ_2 u_2 + M_{1}ˏ_3 u_3 \\\\\n",
       "M_{2}ˏ_1 u_1 + M_{2}ˏ_2 u_2 + M_{2}ˏ_3 u_3 \\\\\n",
       "M_{3}ˏ_1 u_1 + M_{3}ˏ_2 u_2 + M_{3}ˏ_3 u_3 \\\\\n",
       "\\end{array}\n",
       "\\right]\n",
       "\\end{equation}\n",
       " $$"
      ],
      "text/plain": [
       "3-element Vector{Num}:\n",
       " M[1, 1]*u[1] + M[1, 2]*u[2] + M[1, 3]*u[3]\n",
       " M[2, 1]*u[1] + M[2, 2]*u[2] + M[2, 3]*u[3]\n",
       " M[3, 1]*u[1] + M[3, 2]*u[2] + M[3, 3]*u[3]"
      ]
     },
     "execution_count": 5,
     "metadata": {},
     "output_type": "execute_result"
    }
   ],
   "source": [
    "[sum(M[i,j]*u[j] for j = drange) for i = drange]"
   ]
  }
 ],
 "metadata": {
  "kernelspec": {
   "display_name": "Julia 1.9.4",
   "language": "julia",
   "name": "julia-1.9"
  },
  "language_info": {
   "file_extension": ".jl",
   "mimetype": "application/julia",
   "name": "julia",
   "version": "1.9.4"
  }
 },
 "nbformat": 4,
 "nbformat_minor": 5
}
